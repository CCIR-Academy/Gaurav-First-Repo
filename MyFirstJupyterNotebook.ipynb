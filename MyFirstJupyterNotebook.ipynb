{
 "metadata": {
  "language_info": {
   "codemirror_mode": {
    "name": "ipython",
    "version": 3
   },
   "file_extension": ".py",
   "mimetype": "text/x-python",
   "name": "python",
   "nbconvert_exporter": "python",
   "pygments_lexer": "ipython3",
   "version": "3.8.6"
  },
  "orig_nbformat": 4,
  "kernelspec": {
   "name": "python3",
   "display_name": "Python 3.8.6 64-bit"
  },
  "interpreter": {
   "hash": "9ddfba760c93d0781cb88c4db9a31eb68ca4e1616821530f19d735f356a5c9ec"
  }
 },
 "nbformat": 4,
 "nbformat_minor": 2,
 "cells": [
  {
   "cell_type": "code",
   "execution_count": 1,
   "metadata": {},
   "outputs": [
    {
     "output_type": "stream",
     "name": "stdout",
     "text": [
      "My target equals 9, so I got it right!\n"
     ]
    }
   ],
   "source": [
    "# Challenge 1: Obtain a new variable named \"targetA\" which equals 9 (as an integer) by using data in the provided list and basic arithmatic operaters. \n",
    "numList = [2,7,11,15]\n",
    "targetA = 0\n",
    "### Write your code below \n",
    "\n",
    "\n",
    "targetA = numList[2] - numList[0]\n",
    "\n",
    "\n",
    "\n",
    "\n",
    "### Write your code above\n",
    "print(\"My target equals %s, so I got it %s!\" % (targetA, (\"right\" if targetA == 9 else \"wrong\")))"
   ]
  },
  {
   "cell_type": "code",
   "execution_count": 2,
   "metadata": {},
   "outputs": [
    {
     "output_type": "stream",
     "name": "stdout",
     "text": [
      "My target List is [15, 11, 7, 2]\n"
     ]
    }
   ],
   "source": [
    "# Challenge 2: Obtain a reversed list for numList\n",
    "numList = [2,7,11,15]\n",
    "targetList = []\n",
    "### Write your code below\n",
    "\n",
    "#targetList = [num for num in reversed(numList)]\n",
    "targetList = numList[::-1]\n",
    "\n",
    "\n",
    "\n",
    "\n",
    "### Write your code above\n",
    "print(\"My target List is %s\" % targetList)"
   ]
  },
  {
   "cell_type": "code",
   "execution_count": 3,
   "metadata": {},
   "outputs": [
    {
     "output_type": "stream",
     "name": "stdout",
     "text": [
      "My sum equals 35, so I got it right!\n"
     ]
    }
   ],
   "source": [
    "# Challenge 3: Get the sum of the elements in the list\n",
    "numList = [2,7,11,15]\n",
    "numListSum = 0\n",
    "### Write your code below\n",
    "numListSum = sum(numList) \n",
    "\n",
    "\n",
    "\n",
    "\n",
    "\n",
    "### Write your code above\n",
    "print(\"My sum equals %s, so I got it %s!\" % (numListSum, (\"right\" if numListSum == 35 else \"wrong\")))"
   ]
  },
  {
   "cell_type": "code",
   "execution_count": 4,
   "metadata": {},
   "outputs": [
    {
     "output_type": "stream",
     "name": "stdout",
     "text": [
      "My target List is [2, 7, 11, 15]\n"
     ]
    }
   ],
   "source": [
    "# Challenge 4: Sort the list from small to big!\n",
    "numList = [7,2,15,11]\n",
    "targetList = []\n",
    "### Write your code below\n",
    "\n",
    " \n",
    "targetList = sorted(numList)\n",
    "\n",
    "\n",
    "\n",
    "\n",
    "### Write your code above\n",
    "print(\"My target List is %s\" % targetList)"
   ]
  },
  {
   "cell_type": "code",
   "execution_count": null,
   "metadata": {},
   "outputs": [],
   "source": []
  }
 ]
}